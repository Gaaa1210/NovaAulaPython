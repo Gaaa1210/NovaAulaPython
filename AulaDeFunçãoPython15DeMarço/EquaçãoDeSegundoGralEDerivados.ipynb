{
 "cells": [
  {
   "cell_type": "code",
   "execution_count": 1,
   "metadata": {},
   "outputs": [
    {
     "name": "stdout",
     "output_type": "stream",
     "text": [
      "Collecting sympy\n",
      "  Using cached sympy-1.12-py3-none-any.whl (5.7 MB)\n",
      "Collecting mpmath>=0.19 (from sympy)\n",
      "  Using cached mpmath-1.3.0-py3-none-any.whl (536 kB)\n",
      "Installing collected packages: mpmath, sympy\n",
      "Successfully installed mpmath-1.3.0 sympy-1.12\n",
      "Note: you may need to restart the kernel to use updated packages.\n"
     ]
    },
    {
     "name": "stderr",
     "output_type": "stream",
     "text": [
      "\n",
      "[notice] A new release of pip is available: 23.1.2 -> 24.0\n",
      "[notice] To update, run: python.exe -m pip install --upgrade pip\n"
     ]
    }
   ],
   "source": [
    "pip install sympy \n"
   ]
  },
  {
   "cell_type": "code",
   "execution_count": 6,
   "metadata": {},
   "outputs": [],
   "source": [
    "from sympy import *"
   ]
  },
  {
   "cell_type": "code",
   "execution_count": 7,
   "metadata": {},
   "outputs": [],
   "source": [
    "x = Symbol('x')"
   ]
  },
  {
   "cell_type": "code",
   "execution_count": 8,
   "metadata": {},
   "outputs": [],
   "source": [
    "from sympy.plotting import *\n"
   ]
  },
  {
   "cell_type": "code",
   "execution_count": 9,
   "metadata": {},
   "outputs": [
    {
     "name": "stdout",
     "output_type": "stream",
     "text": [
      "    100 |\\                                                     /\n",
      "        | .                                                   . \n",
      "        |                                                       \n",
      "        |  .                                                 .  \n",
      "        |   \\                                               /   \n",
      "        |    .                                             .    \n",
      "        |                                                       \n",
      "        |     .                                           .     \n",
      "        |      \\                                         /      \n",
      "        |       \\                                       /       \n",
      "     50 |--------\\-------------------------------------/--------\n",
      "        |         \\                                   /         \n",
      "        |          \\                                 /          \n",
      "        |           \\                               /           \n",
      "        |            \\                             /            \n",
      "        |             ..                         ..             \n",
      "        |               \\                       /               \n",
      "        |                ..                   ..                \n",
      "        |                  ..               ..                  \n",
      "        |                    ...         ...                    \n",
      "      0 |_______________________________________________________\n",
      "         -10                        0                          10\n"
     ]
    },
    {
     "data": {
      "text/plain": [
       "<sympy.plotting.plot.Plot at 0x171a2390f50>"
      ]
     },
     "execution_count": 9,
     "metadata": {},
     "output_type": "execute_result"
    }
   ],
   "source": [
    "plot (x**2)"
   ]
  },
  {
   "cell_type": "code",
   "execution_count": 35,
   "metadata": {},
   "outputs": [
    {
     "data": {
      "text/plain": [
       "'python'"
      ]
     },
     "execution_count": 35,
     "metadata": {},
     "output_type": "execute_result"
    }
   ],
   "source": [
    "len (\"Gabriel Caetano Cordeiro Wanderley\")\n",
    "\n",
    "s = \"Let's learn Python\"\n",
    "s[10:]\n",
    "#O carinha de cima ignora os caracteres, isso é uma função que tem no python\n",
    "\n",
    "s=\"pytho\"\n",
    "a=\"n\"\n",
    "s+a \n",
    "#É assim que eu posso somar string, e uma OBS: quando eu coloco alguma coisa entre \"\" eu falo para o codigo que é uma str\n"
   ]
  },
  {
   "cell_type": "code",
   "execution_count": 37,
   "metadata": {},
   "outputs": [
    {
     "name": "stdout",
     "output_type": "stream",
     "text": [
      "Meu nome é Gabriel , tenho 17 e moro em São Paulo \n"
     ]
    }
   ],
   "source": [
    "#Criar uma estrutura na qual o usuario possa inserir o seu nome, idade e cidade. Tenho que printar (Meu nome é ..., tenho ..., e moro ...)\n",
    "\n",
    "nome = str(input(\"Insira o seu nome\"))\n",
    "idade = str(input(\"Qual a sua idade\"))\n",
    "cidade = str(input(\"Qual a sua cidade\"))\n",
    "\n",
    "print (\"Meu nome é\", nome,\", tenho\",  idade, \"e moro em\",cidade)\n"
   ]
  },
  {
   "cell_type": "code",
   "execution_count": 42,
   "metadata": {},
   "outputs": [
    {
     "data": {
      "text/plain": [
       "'Gabriel tem 35 anos e R$ 51.23 no bolso'"
      ]
     },
     "execution_count": 42,
     "metadata": {},
     "output_type": "execute_result"
    }
   ],
   "source": [
    "grana = 51.23\n",
    "idade = 35\n",
    "nome = \"Gabriel\"\n",
    "\n",
    "\"{} tem {} anos e R$ {} no bolso\".format(nome,idade,grana)\n"
   ]
  },
  {
   "cell_type": "code",
   "execution_count": null,
   "metadata": {},
   "outputs": [],
   "source": []
  },
  {
   "cell_type": "code",
   "execution_count": 43,
   "metadata": {},
   "outputs": [
    {
     "name": "stdout",
     "output_type": "stream",
     "text": [
      "da tem d anos e fsd no bolso\n"
     ]
    }
   ],
   "source": [
    "nome = (input(\"Digite nome\"))\n",
    "idade = (input(\"Digite a idade\"))\n",
    "grana = (input(\"digite a sua grana\"))\n",
    "\n",
    "print (f\"{nome} tem {idade} anos e {grana} no bolso\")\n"
   ]
  }
 ],
 "metadata": {
  "kernelspec": {
   "display_name": "Python 3",
   "language": "python",
   "name": "python3"
  },
  "language_info": {
   "codemirror_mode": {
    "name": "ipython",
    "version": 3
   },
   "file_extension": ".py",
   "mimetype": "text/x-python",
   "name": "python",
   "nbconvert_exporter": "python",
   "pygments_lexer": "ipython3",
   "version": "3.11.4"
  },
  "orig_nbformat": 4
 },
 "nbformat": 4,
 "nbformat_minor": 2
}
