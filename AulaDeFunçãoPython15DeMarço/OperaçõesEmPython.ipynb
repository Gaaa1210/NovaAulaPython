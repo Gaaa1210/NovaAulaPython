{
 "cells": [
  {
   "cell_type": "code",
   "execution_count": 16,
   "metadata": {},
   "outputs": [
    {
     "name": "stdout",
     "output_type": "stream",
     "text": [
      "Gabriel Caetano  Crodeiro\n"
     ]
    }
   ],
   "source": [
    "#Criar uma estrutura com três inputs, solicitando primeiro nome, segundo nome e terceiro nome\n",
    "#Retorne o nome completo da pessoa com apenas as primeiras letras em maiusculas \n",
    "\n",
    "primeiroNome = str(input(\"Digite o primeiro nome\"))\n",
    "segundoNome = str(input(\"Digite o seu segundo nome\"))\n",
    "terceiroNome =str(input(\"Digite o seu terceiro nome\"))\n",
    "\n",
    "g1 = primeiroNome [1:].lower()\n",
    "g2 = segundoNome [1:].lower()\n",
    "g3 = terceiroNome [1:].lower()\n",
    "\n",
    "primeiroNomeComLetraMaiuscula = primeiroNome[:1].upper()\n",
    "segundoNomeComLetraMaiuscula = segundoNome[:1].upper()\n",
    "terceiroNomeComLetraMaiuscula = terceiroNome[:1].upper()\n",
    "\n",
    "nome1 = primeiroNomeComLetraMaiuscula + \"\" + g1\n",
    "nome2 = segundoNomeComLetraMaiuscula + \"\" + g2\n",
    "nome3 = terceiroNomeComLetraMaiuscula + \"\" + g3\n",
    "\n",
    "print (nome1,nome2,nome3)\n",
    "\n",
    "#Este foi o jeito que eu fiz"
   ]
  },
  {
   "cell_type": "code",
   "execution_count": 19,
   "metadata": {},
   "outputs": [
    {
     "ename": "SyntaxError",
     "evalue": "invalid syntax. Perhaps you forgot a comma? (1485041791.py, line 8)",
     "output_type": "error",
     "traceback": [
      "\u001b[1;36m  Cell \u001b[1;32mIn[19], line 8\u001b[1;36m\u001b[0m\n\u001b[1;33m    print(f\"seu nome é:\", firstName[0].upper() + firstName[1:] + \" \" + secundName[0].upper() + segundName[1:] +\u001b[0m\n\u001b[1;37m                          ^\u001b[0m\n\u001b[1;31mSyntaxError\u001b[0m\u001b[1;31m:\u001b[0m invalid syntax. Perhaps you forgot a comma?\n"
     ]
    }
   ],
   "source": [
    "#Criar uma estrutura com três inputs, solicitando primeiro nome, segundo nome e terceiro nome\n",
    "#Retorne o nome completo da pessoa com apenas as primeiras letras em maiusculas \n",
    "\n",
    "firstName = str(input(\"Digite primeiro nome\"))\n",
    "segundName = str(input(\"Digite segundo nome\"))\n",
    "terceiroNome = str(input(\"Digite o terceiro nome\"))\n",
    "\n",
    "print(f\"seu nome é:\", firstName[0].upper() + firstName[1:] + \" \" + secundName[0].upper() + segundName[1:] +\n",
    "       \" \" terceiroName[0].upper() + terceiroName[1:])"
   ]
  }
 ],
 "metadata": {
  "kernelspec": {
   "display_name": "Python 3",
   "language": "python",
   "name": "python3"
  },
  "language_info": {
   "codemirror_mode": {
    "name": "ipython",
    "version": 3
   },
   "file_extension": ".py",
   "mimetype": "text/x-python",
   "name": "python",
   "nbconvert_exporter": "python",
   "pygments_lexer": "ipython3",
   "version": "3.11.4"
  },
  "orig_nbformat": 4
 },
 "nbformat": 4,
 "nbformat_minor": 2
}
