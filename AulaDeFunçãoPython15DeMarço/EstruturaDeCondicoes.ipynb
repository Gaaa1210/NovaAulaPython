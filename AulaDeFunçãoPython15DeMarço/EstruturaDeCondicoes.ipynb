{
 "cells": [
  {
   "cell_type": "code",
   "execution_count": null,
   "metadata": {},
   "outputs": [],
   "source": [
    "n1 = 10\n",
    "n2 = 5\n",
    "n3 = 7\n",
    "\n",
    "media = (n1 + n2 + n3) /\n",
    "\n",
    "if media >= 7:\n",
    "    print(\"Aprovado\", media)\n",
    "\n",
    "elif media >= 4 and media <7 \n",
    "    print(\"Exame)\")    \n",
    "\n",
    "else:\n",
    "    print(\"Reprovado\", media)"
   ]
  },
  {
   "cell_type": "code",
   "execution_count": 12,
   "metadata": {},
   "outputs": [
    {
     "name": "stdout",
     "output_type": "stream",
     "text": [
      "Reprovado\n"
     ]
    }
   ],
   "source": [
    "#Criar um algoritmo para calcular a média dentre três notas inseridas pelo usúario.\n",
    "#Se a média for >=7 aprovado, <7 ou <=4 exame, <4 reprovado.\n",
    "#Ou se o aluno tiver um artigo publicado, independente da nota, aprovado.\n",
    "\n",
    "n1 = int(input(\"Digite a primeira nota\"))\n",
    "n2 = int(input(\"Digite a segunda nota\"))\n",
    "n3 = int(input(\"Digite a terceira nota\"))\n",
    "artigo = str(input(\"Você tem um artigo? Digite Sim ou Não\"))\n",
    "media = n1+n2+n3/3\n",
    "\n",
    "\n",
    "if artigo == \"Sim\":\n",
    "    print(\"Aprovado\")\n",
    "\n",
    "elif media >=7:\n",
    "    print(\"Aprovado\")\n",
    "\n",
    "elif media >7 or media <=4:\n",
    "    print(\"Exame\")\n",
    "\n",
    "elif media >4:\n",
    "    print(\"Reprovado\")\n",
    "\n",
    "else: print(\"Reprovado\")    \n",
    "\n",
    "\n",
    "\n",
    "\n"
   ]
  },
  {
   "cell_type": "code",
   "execution_count": 5,
   "metadata": {},
   "outputs": [
    {
     "name": "stdout",
     "output_type": "stream",
     "text": [
      "Você foi multado em R$ 50.0\n"
     ]
    }
   ],
   "source": [
    "#Escreva um programa que pergunte a velocidade do carro de um usúario.\n",
    "#Caso ultrapasse 80km/h, exiba uma mensagem dizendo que o usuário foi multado.\n",
    "#Neste caso, exiba o valor da multa, cobrando R$ 5,00 a cada km/h acima do permitido.\n",
    "\n",
    "velocidade = float(input(\"Qual a velocidade do seu carro?\"))\n",
    "multa = velocidade - 80.00\n",
    "valorMulta = multa*5.00\n",
    "\n",
    "if velocidade > 80.00: \n",
    "    print(\"Você foi multado em R$\", valorMulta)\n",
    "else: print(\"Você não foi multado\")"
   ]
  },
  {
   "cell_type": "code",
   "execution_count": 22,
   "metadata": {},
   "outputs": [
    {
     "name": "stdout",
     "output_type": "stream",
     "text": [
      "Adulto\n"
     ]
    }
   ],
   "source": [
    "\"\"\"Escreva um programa que peça ao usuário para digitar a idade e, em seguida, \n",
    "imprime uma mensagem indicando se a pessoa é criança, adolecente, adulto, idoso\"\"\"\n",
    "\n",
    "idade = int(input(\"Qual é a sua idade?\"))\n",
    "\n",
    "if idade <=12:\n",
    "    print(\"Criança\")\n",
    "elif 13<=  idade <=18:\n",
    "    print(\"Adolecente\")\n",
    "elif 18< idade <=59:\n",
    "    print(\"Adulto\")\n",
    "else: print(\"Idoso\")"
   ]
  },
  {
   "cell_type": "code",
   "execution_count": 25,
   "metadata": {},
   "outputs": [
    {
     "name": "stdout",
     "output_type": "stream",
     "text": [
      "Par\n"
     ]
    }
   ],
   "source": [
    "#Identifica numero par e numero impar\n",
    "numero = int(input(\"Digite o seu numero\"))\n",
    "\n",
    "if numero % 2 == 0:\n",
    "    print(\"Par\")\n",
    "else: print(\"Impar\")    \n",
    "\n",
    "#OBS --> \"%\" significa (Se for divisivel por...) "
   ]
  },
  {
   "cell_type": "code",
   "execution_count": 54,
   "metadata": {},
   "outputs": [
    {
     "name": "stdout",
     "output_type": "stream",
     "text": [
      "5 é o maior\n"
     ]
    }
   ],
   "source": [
    "#Escreva um programa que compare entre três números qual é maior\n",
    "n1 = int(input(\"n1\"))\n",
    "n2 = int(input(\"n2\"))\n",
    "n3 = int(input(\"n3\"))\n",
    "\n",
    "if n1 > n2 and n1 > n3:\n",
    "    print(n1, \"é o maior entre todos\")\n",
    "\n",
    "elif n2 > n1 and n2 > n3:\n",
    "    print(n2, \"é o maior\")\n",
    "\n",
    "elif n3 > n1 and n3 > n2: \n",
    "    print (n3,\"é o maior\")\n",
    "\n",
    "elif n1==n2 and n3 > n1 and n3 > n2:\n",
    "    print(n3,\"é o maior\")\n",
    "\n",
    "elif n2==n3 and n1 > n2 and n1 > n3:\n",
    "    print(n1,\"é o maior\")\n",
    "\n",
    "elif n1==n3 and n2 > n1 and n2 > n3:\n",
    "    print(n2,\"é o maior\")\n",
    "    \n",
    "elif n1==n2 and n3 < n1 and n3 < n2:\n",
    "    print(n3,\"é o maior\")\n",
    "\n",
    "elif n2==n3 and n1 < n2 and n1 < n3:\n",
    "    print(n1,\"é o maior\")\n",
    "\n",
    "elif n1==n3 and n2 < n1 and n2 < n3:\n",
    "    print(n2,\"é o maior\")\n",
    "\n",
    "else: print (\"Todos são iguais\")"
   ]
  },
  {
   "cell_type": "code",
   "execution_count": null,
   "metadata": {},
   "outputs": [],
   "source": [
    "\"\"\"Escreva um programa que mostra qual a sua cor favorita. Crie utilizando uma estrutura com números.\n",
    "1 - Azul\n",
    "2 - Verde\n",
    "3 - Amarelo\n",
    "4 - Preto\n",
    "5 - Branco\"\"\"\n",
    "\n",
    "\n"
   ]
  },
  {
   "cell_type": "code",
   "execution_count": 56,
   "metadata": {},
   "outputs": [
    {
     "data": {
      "text/plain": [
       "'Crie um programa para verificar se uma pessoa pode ou não votar em função da sua idade e do título de eleitor. \\nCaso a pessoa tenha 16 e não tenha título de eleitor, não poderá votar. \\nCaso tenho 16 anos e tenha título de eleitor, poderá votar. \\nCaso tenha idade abaixo de 16 anos não poderá votar.'"
      ]
     },
     "execution_count": 56,
     "metadata": {},
     "output_type": "execute_result"
    }
   ],
   "source": [
    "\"\"\"Crie um programa para verificar se uma pessoa pode ou não votar em função da sua idade e do título de eleitor. \n",
    "Caso a pessoa tenha 16 e não tenha título de eleitor, não poderá votar. \n",
    "Caso tenho 16 anos e tenha título de eleitor, poderá votar. \n",
    "Caso tenha idade abaixo de 16 anos não poderá votar.\"\"\"\n",
    "\n"
   ]
  },
  {
   "cell_type": "code",
   "execution_count": null,
   "metadata": {},
   "outputs": [],
   "source": [
    "\"\"\"Crie um programa para o usúario inserir dia da semana e printar dia de balada caso seja \n",
    "sávadom caso seja domingo, severá printar dia de netflix, futebo ou cinema. \n",
    "Caso sejá dia da semanda, print dia de estudar ou trabalhar.\"\"\""
   ]
  },
  {
   "cell_type": "code",
   "execution_count": 73,
   "metadata": {},
   "outputs": [
    {
     "name": "stdout",
     "output_type": "stream",
     "text": [
      "Voto negado\n"
     ]
    }
   ],
   "source": [
    "\"\"\"Crie um programa para verificar se uma pessoa pode ou não votar em função da sua idade e do título de eleitor. \n",
    "Caso a pessoa tenha 16 ou 17 anos, pergunte se ela quer votar, se quiser, pergunte se tem título de eleitor, caso tenha,\n",
    "print permitido votar. caso a pessoa tenha 16 ou 17 anos e nao queira votar, print é seu direito. \n",
    "Caso tenha idade maior ou igual a 18 anos, obrigatorio votar \"\"\"\n",
    "\n",
    "idade = int(input(\"Qual a sua idade?\"))\n",
    "\n",
    "if idade < 16:\n",
    "    print(\"Você não pode votar\")\n",
    "elif idade == 16 or idade == 17:\n",
    "    resposta = input(\"Você quer votar?\") \n",
    "    if resposta == \"Sim\" or resposta == \"sim\":\n",
    "        print (\"Voto aprovado\")\n",
    "    else: print(\"Voto negado\")\n",
    "else: print(\"Voto obrigatorio\")\n",
    "\n"
   ]
  },
  {
   "cell_type": "code",
   "execution_count": null,
   "metadata": {},
   "outputs": [],
   "source": [
    "#OBS --> \"in\" serve para comprar uma frase com outra, para saber se tem uma str dentro da outra\n",
    "\n",
    "letra =str(input(\"Digite uma letra\")).lower()\n",
    "palavra = str(input(\"digite uma palavra\")).lower()\n",
    "\n",
    "if letra in palavra:\n",
    "    print(letra)\n",
    "else:\n",
    "    print(\"Não esta na palavra\")\n",
    "\n",
    "#\".lower\" transforma tudo o que ele esta digitando em minuscula"
   ]
  }
 ],
 "metadata": {
  "kernelspec": {
   "display_name": "Python 3",
   "language": "python",
   "name": "python3"
  },
  "language_info": {
   "codemirror_mode": {
    "name": "ipython",
    "version": 3
   },
   "file_extension": ".py",
   "mimetype": "text/x-python",
   "name": "python",
   "nbconvert_exporter": "python",
   "pygments_lexer": "ipython3",
   "version": "3.11.4"
  },
  "orig_nbformat": 4
 },
 "nbformat": 4,
 "nbformat_minor": 2
}
