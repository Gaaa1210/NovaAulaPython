{
 "cells": [
  {
   "cell_type": "code",
   "execution_count": null,
   "metadata": {},
   "outputs": [],
   "source": []
  },
  {
   "cell_type": "code",
   "execution_count": 1,
   "metadata": {},
   "outputs": [],
   "source": [
    "import pandas as pd"
   ]
  },
  {
   "cell_type": "markdown",
   "metadata": {},
   "source": [
    "##### Crie uma Pandas Series contendo os numeros de 1 a 10"
   ]
  },
  {
   "cell_type": "code",
   "execution_count": 6,
   "metadata": {},
   "outputs": [
    {
     "name": "stdout",
     "output_type": "stream",
     "text": [
      "3\n"
     ]
    }
   ],
   "source": [
    "\n",
    "s1 = pd.Series ([1,2,3,4,5,6,7,8,9,10])\n",
    "print(s1[2])\n",
    "\n"
   ]
  },
  {
   "cell_type": "code",
   "execution_count": 9,
   "metadata": {},
   "outputs": [
    {
     "name": "stdout",
     "output_type": "stream",
     "text": [
      "0     7\n",
      "1     9\n",
      "2    11\n",
      "3    13\n",
      "4    15\n",
      "dtype: int64\n"
     ]
    }
   ],
   "source": [
    "s1 = pd.Series ([1,2,3,4,5,])\n",
    "s2 = pd.Series ([6,7,8,9,10]) \n",
    "\n",
    "soma = s1 + s2\n",
    "print(soma)"
   ]
  },
  {
   "cell_type": "code",
   "execution_count": 13,
   "metadata": {},
   "outputs": [
    {
     "name": "stdout",
     "output_type": "stream",
     "text": [
      "Não é\n",
      "Não é\n",
      "Não é\n",
      "Não é\n",
      "Não é\n",
      "6\n",
      "7\n",
      "8\n",
      "9\n"
     ]
    }
   ],
   "source": [
    "s1 = pd.Series (range(1,10))\n",
    "for i in s1:\n",
    "    if i>5:\n",
    "        print(i)\n",
    "    else: \n",
    "        print(\"Não é\")\n",
    "\n",
    "\n",
    "\n"
   ]
  },
  {
   "cell_type": "code",
   "execution_count": 16,
   "metadata": {},
   "outputs": [
    {
     "name": "stdout",
     "output_type": "stream",
     "text": [
      "   ss1  ss2\n",
      "0   10    1\n",
      "1   20    2\n",
      "2   30    3\n",
      "3   40    4\n",
      "4   50    5\n"
     ]
    }
   ],
   "source": [
    "s1 = pd.Series([10,20,30,40,50], name='ss1')\n",
    "s2 = pd.Series([1,2,3,4,5], name='ss2')\n",
    "\n",
    "s_contact = pd.concat([s1,s2], axis = 1) #Concatena\n",
    "print(s_contact)"
   ]
  },
  {
   "cell_type": "code",
   "execution_count": 15,
   "metadata": {},
   "outputs": [
    {
     "data": {
      "text/plain": [
       "9    10\n",
       "8     9\n",
       "7     8\n",
       "6     7\n",
       "5     6\n",
       "4     5\n",
       "3     4\n",
       "2     3\n",
       "1     2\n",
       "0     1\n",
       "dtype: int64"
      ]
     },
     "execution_count": 15,
     "metadata": {},
     "output_type": "execute_result"
    }
   ],
   "source": [
    "s1 = pd.Series(range(1,11))\n",
    "\n",
    "s1.sort_values(ascending = False) #False decrecente, true crescente."
   ]
  },
  {
   "cell_type": "code",
   "execution_count": 17,
   "metadata": {},
   "outputs": [
    {
     "data": {
      "text/plain": [
       "False"
      ]
     },
     "execution_count": 17,
     "metadata": {},
     "output_type": "execute_result"
    }
   ],
   "source": [
    "s1 = pd.Series([10,20,20,30,40,50], name ='Serie 1')\n",
    "\n",
    "s1.duplicated().any() #Ele ve se tem algum duplicado.\n"
   ]
  },
  {
   "cell_type": "code",
   "execution_count": 19,
   "metadata": {},
   "outputs": [
    {
     "data": {
      "text/plain": [
       "0   -9.0\n",
       "1   -7.0\n",
       "2   -5.0\n",
       "3   -3.0\n",
       "4   -1.0\n",
       "5    1.0\n",
       "6    3.0\n",
       "7    5.0\n",
       "8    7.0\n",
       "9    NaN\n",
       "dtype: float64"
      ]
     },
     "execution_count": 19,
     "metadata": {},
     "output_type": "execute_result"
    }
   ],
   "source": [
    "s1 = pd.Series (range(1,11))\n",
    "s2 = pd.Series(range(10, 1, -1))\n",
    "\n",
    "ex_sub = s1 - s2\n",
    "ex_sub"
   ]
  },
  {
   "cell_type": "code",
   "execution_count": null,
   "metadata": {},
   "outputs": [],
   "source": []
  }
 ],
 "metadata": {
  "kernelspec": {
   "display_name": "Python 3",
   "language": "python",
   "name": "python3"
  },
  "language_info": {
   "codemirror_mode": {
    "name": "ipython",
    "version": 3
   },
   "file_extension": ".py",
   "mimetype": "text/x-python",
   "name": "python",
   "nbconvert_exporter": "python",
   "pygments_lexer": "ipython3",
   "version": "3.12.3"
  }
 },
 "nbformat": 4,
 "nbformat_minor": 2
}
