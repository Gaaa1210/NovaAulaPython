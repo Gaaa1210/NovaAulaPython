{
 "cells": [
  {
   "cell_type": "code",
   "execution_count": 5,
   "metadata": {},
   "outputs": [
    {
     "name": "stdout",
     "output_type": "stream",
     "text": [
      "100\n",
      "10\n",
      "1\n"
     ]
    }
   ],
   "source": [
    "tupla = (100,10,1) #Não consigo mudar os dados que estão aqui dentro uma vez que ele foi salvo. Entretanto, a tupla é mais rápida do que a lista.\n",
    "print(tupla[0])\n",
    "print(tupla[1])\n",
    "print(tupla[2])"
   ]
  },
  {
   "cell_type": "code",
   "execution_count": 2,
   "metadata": {},
   "outputs": [
    {
     "name": "stdout",
     "output_type": "stream",
     "text": [
      "100\n",
      "10\n",
      "1\n"
     ]
    }
   ],
   "source": [
    "lista = [100, 10, 1]\n",
    "print(lista[0])\n",
    "print(lista[1])\n",
    "print(lista[2])\n"
   ]
  },
  {
   "cell_type": "code",
   "execution_count": 7,
   "metadata": {},
   "outputs": [
    {
     "name": "stdout",
     "output_type": "stream",
     "text": [
      "6\n",
      "8\n",
      "(4, 5, 6)\n",
      "(7, 8)\n"
     ]
    }
   ],
   "source": [
    "tupla_tupla = (4,5,6), (7,8)\n",
    "print(tupla_tupla[0][2]) #O primeiro numero é a tupla que eu quero pegar os dados e depois quais são as casas que eu quero tirar aqueles dados.\n",
    "print(tupla_tupla[1][1])\n",
    "\n",
    "for m in tupla_tupla:\n",
    "    print(m)\n",
    "    "
   ]
  },
  {
   "cell_type": "code",
   "execution_count": 8,
   "metadata": {},
   "outputs": [
    {
     "name": "stdout",
     "output_type": "stream",
     "text": [
      "('foo', [1, 2, 3], True)\n"
     ]
    }
   ],
   "source": [
    "tupla = tuple(['foo', [1,2,3], True]) #Aqui eu posso ter varios formatos de informações\n",
    "print(tupla)"
   ]
  },
  {
   "cell_type": "code",
   "execution_count": 9,
   "metadata": {},
   "outputs": [
    {
     "ename": "TypeError",
     "evalue": "'tuple' object does not support item assignment",
     "output_type": "error",
     "traceback": [
      "\u001b[1;31m---------------------------------------------------------------------------\u001b[0m",
      "\u001b[1;31mTypeError\u001b[0m                                 Traceback (most recent call last)",
      "Cell \u001b[1;32mIn[9], line 3\u001b[0m\n\u001b[0;32m      1\u001b[0m \u001b[38;5;66;03m#agora eu vou provar que não da para mudar os dados ali dentro\u001b[39;00m\n\u001b[1;32m----> 3\u001b[0m tupla[\u001b[38;5;241m2\u001b[39m] \u001b[38;5;241m=\u001b[39m \u001b[38;5;28;01mFalse\u001b[39;00m\n",
      "\u001b[1;31mTypeError\u001b[0m: 'tuple' object does not support item assignment"
     ]
    }
   ],
   "source": [
    "#agora eu vou provar que não da para mudar os dados ali dentro\n",
    "\n",
    "tupla[2] = False #Aqui ele vai dar um erro pois eu não posso mudar os dados."
   ]
  },
  {
   "cell_type": "code",
   "execution_count": null,
   "metadata": {},
   "outputs": [],
   "source": [
    "tupla[1].append(4) #Aqui eu estou adicionando o numero 4 na lista.\n",
    "print(tupla)"
   ]
  },
  {
   "cell_type": "code",
   "execution_count": 10,
   "metadata": {},
   "outputs": [
    {
     "name": "stdout",
     "output_type": "stream",
     "text": [
      "('foo', [1, 2, 3], True)\n",
      "['foo', [1, 2, 3], True]\n",
      "['fiap', 'foo', [1, 2, 3], True]\n"
     ]
    }
   ],
   "source": [
    "tupla = tuple(['foo', [1,2,3], True]) \n",
    "print(tupla)\n",
    "\n",
    "lista = list(tupla) #Aqui eu estou mudando uma tupla para uma lista.\n",
    "print(lista)\n",
    "\n",
    "lista.insert(0, 'fiap')\n",
    "print(lista)"
   ]
  },
  {
   "cell_type": "code",
   "execution_count": 20,
   "metadata": {},
   "outputs": [
    {
     "name": "stdout",
     "output_type": "stream",
     "text": [
      "('foo', [1, 2, 3], True)\n",
      "['foo', [1, 2, 3], True]\n",
      "('foo', 'foo fighters', [1, 2, 3], True)\n"
     ]
    }
   ],
   "source": [
    "tupla = tuple (['foo', [1,2,3], True])\n",
    "print(tupla)\n",
    "\n",
    "lista = list(tupla)\n",
    "print(lista)\n",
    "\n",
    "posicaoInsercao = lista.index('foo') + 1 #Index é a referência (Ou sejá, apartir de um casa eu vou querer inserir um cara) e o +1 é para adicionar um a frente da referência. \n",
    "lista.insert(posicaoInsercao, 'foo fighters')\n",
    "\n",
    "tuplaNova = tuple(lista)\n",
    "print(tuplaNova)"
   ]
  },
  {
   "cell_type": "code",
   "execution_count": 21,
   "metadata": {},
   "outputs": [
    {
     "name": "stdout",
     "output_type": "stream",
     "text": [
      "('s', 't', 'r', 'i', 'n', 'g')\n"
     ]
    }
   ],
   "source": [
    "tupla = tuple('string')\n",
    "print(tupla)"
   ]
  },
  {
   "cell_type": "code",
   "execution_count": 22,
   "metadata": {},
   "outputs": [
    {
     "name": "stdout",
     "output_type": "stream",
     "text": [
      "(4, None, 'foo', 6, 0, 'fiap', 1)\n"
     ]
    }
   ],
   "source": [
    "a = (4, None, 'foo') + (6, 0) + ('fiap', 1) #O \"+\"irá servir para concatenar\n",
    "print(a)"
   ]
  },
  {
   "cell_type": "code",
   "execution_count": 23,
   "metadata": {},
   "outputs": [
    {
     "name": "stdout",
     "output_type": "stream",
     "text": [
      "100\n",
      "1000\n",
      "10000\n"
     ]
    }
   ],
   "source": [
    "tupla = (100, 1000, 10000) \n",
    "#Para dar nomes aos dados que estão dentro da tupla\n",
    "a, b, c = tupla\n",
    "print(a)\n",
    "print(b)\n",
    "print(c)\n",
    "\n",
    "\n",
    "\n"
   ]
  },
  {
   "cell_type": "code",
   "execution_count": 24,
   "metadata": {},
   "outputs": [
    {
     "data": {
      "text/plain": [
       "(35.0, 70)"
      ]
     },
     "execution_count": 24,
     "metadata": {},
     "output_type": "execute_result"
    }
   ],
   "source": [
    "def nome_funcao(parametros):\n",
    "    a = (20 + 50) / 2\n",
    "    b = (20 + 50)\n",
    "    return a, b\n",
    "nome_funcao(0)\n"
   ]
  },
  {
   "cell_type": "code",
   "execution_count": 31,
   "metadata": {},
   "outputs": [
    {
     "name": "stdout",
     "output_type": "stream",
     "text": [
      "banana\n",
      "('maca', 'banana', 'manga', 'uva')\n",
      "('maca', 'banana', 'manga', 'uva', 'abacaxi', 'limão')\n",
      "Verdadeiro\n"
     ]
    }
   ],
   "source": [
    "#Crie uma tupla chamada \"frutas\" com os seguintes elementos: 'maçã', 'banana', 'laranja', 'uva'.\n",
    "#Acessar o segundo elemento da tupla frutas\n",
    "# Substitua o terceiro elemento da tupla frutas por 'manga' e armazene a tupla modificada em uma nova variável chamada frutas_modificadas\n",
    "#Concatene a tupla frutas_modificadas com a tupla ('abacaxi', 'limão') e armazene o resultado em uma nova tupla chamada frutas_concatenadas.\n",
    "#Verifique se o elemento 'uva' está presente na tupla frutas_contatenadas.\n",
    "\n",
    "frutas = ('maca', 'banana', 'laranja', 'uva')\n",
    "print(frutas[1])\n",
    "\n",
    "lista = list(frutas)\n",
    "lista[2] = 'manga'\n",
    "frutas_modificadas = tuple(lista)\n",
    "print(frutas_modificadas)\n",
    "\n",
    "tupla_outras = ('abacaxi', 'limão')\n",
    "\n",
    "frutas_concatenadas = (frutas_modificadas + tupla_outras)\n",
    "print(frutas_concatenadas)\n",
    "\n",
    "if 'uva' in frutas_concatenadas:\n",
    "    print(\"Verdadeiro\")\n",
    "else:\n",
    "    print(\"Falso\")\n",
    "\n",
    "\n"
   ]
  },
  {
   "cell_type": "code",
   "execution_count": null,
   "metadata": {},
   "outputs": [],
   "source": [
    "#Crie um logaritmo para calcular a média dos alunos abaixo utilize estrutura de repetição e tuplas.\n",
    "\n",
    "tupla_nomes = [('Laura', 85, 90, 88),('Paulo', 60, 75, 68),('Ana', 68, 80, 90),('Jose', 80, 90, 72)]\n",
    "\n",
    "for i in tupla_nomes:\n",
    "    nome, nota1, nota2, nota3 = i\n",
    "    media = (nota1 + nota2 + nota3) / 3\n",
    "    print(f\"O aluno {nome} tem média {media}\")\n",
    "\n",
    "\n"
   ]
  },
  {
   "cell_type": "code",
   "execution_count": 34,
   "metadata": {},
   "outputs": [
    {
     "name": "stdout",
     "output_type": "stream",
     "text": [
      "As despesas de Viagens foi 5000, 15000, 25000.\n",
      "As despesas de Restaurantes foi 230, 100, 50.\n",
      "As despesas de Transporte foi 50, 15, 89.\n"
     ]
    }
   ],
   "source": [
    "#Crie um programa que análise despesas. Utilize estruturas de repetição e tuplas.\n",
    "\n",
    "# Viagens, 5000, 15000, 25000, 9800\n",
    "# Restaurantes, 230, 100, 50, 415\n",
    "# Transporte, 50, 15, 89, 115\n",
    "\n",
    "despesas = [('Viagens', 5000, 15000, 25000, 9800), ('Restaurantes', 230, 100, 50, 415),('Transporte', 50, 15, 89, 115)]\n",
    "\n",
    "for i in despesas:\n",
    "    tipo_despesa, despesa1, despesa2, despesa3, despesa4 = i\n",
    "    print(f\"As despesas de {tipo_despesa} foi {despesa1}, {despesa2}, {despesa3}.\")\n",
    "\n"
   ]
  },
  {
   "cell_type": "code",
   "execution_count": 35,
   "metadata": {},
   "outputs": [
    {
     "name": "stdout",
     "output_type": "stream",
     "text": [
      "O livro O senhor dos Anéis é o autor J.R.R. Tolkien\n",
      "O livro O Hobbit é o autor J.R.R. Tolkien\n"
     ]
    }
   ],
   "source": [
    "#Crie um programa para catalogação de livros. Utilize estrutura de repetição e tuplas.\n",
    "\n",
    "#livros = [\n",
    "# (\"Senhor dos Anéis\", \"J.R.R. Tolkien\"), (\"O Hobbit\", \"J.R.R tolkien\"), (\"1984\" \"George Orwell\")]\n",
    "\n",
    "livros =[\n",
    "    (\"O senhor dos Anéis\", \"J.R.R. Tolkien\"),\n",
    "    (\"O Hobbit\", \"J.R.R. Tolkien\")\n",
    "]\n",
    "for i in livros:\n",
    "    nome_livro, nome_autor = i\n",
    "    print(f\"O livro {nome_livro} é o autor {nome_autor}\")"
   ]
  },
  {
   "cell_type": "code",
   "execution_count": 42,
   "metadata": {},
   "outputs": [],
   "source": [
    "estudantes = [\n",
    "    { 'nome': 'Alice', 'age': 40},\n",
    "    { 'nome': 'Bob', 'age': 37},\n",
    "    { 'nome': 'Chris', 'age': 33},\n",
    "    ]"
   ]
  },
  {
   "cell_type": "code",
   "execution_count": 43,
   "metadata": {},
   "outputs": [
    {
     "name": "stdout",
     "output_type": "stream",
     "text": [
      "    nome  age\n",
      "0  Alice   40\n",
      "1    Bob   37\n",
      "2  Chris   33\n"
     ]
    }
   ],
   "source": [
    "import pandas as pd\n",
    "dados = pd.DataFrame(estudantes) #Este cara vai transformar em uma tabela.\n",
    "print(dados)"
   ]
  }
 ],
 "metadata": {
  "kernelspec": {
   "display_name": "Python 3",
   "language": "python",
   "name": "python3"
  },
  "language_info": {
   "codemirror_mode": {
    "name": "ipython",
    "version": 3
   },
   "file_extension": ".py",
   "mimetype": "text/x-python",
   "name": "python",
   "nbconvert_exporter": "python",
   "pygments_lexer": "ipython3",
   "version": "3.11.7"
  }
 },
 "nbformat": 4,
 "nbformat_minor": 2
}
