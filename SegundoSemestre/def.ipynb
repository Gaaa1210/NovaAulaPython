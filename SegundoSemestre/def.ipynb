{
 "cells": [
  {
   "cell_type": "code",
   "execution_count": 5,
   "metadata": {},
   "outputs": [],
   "source": [
    "# Ex.1 - operação soma\n",
    "\n",
    "def soma_sub (a, b, c): #Isso é uma tupla, ele sempre ira retornar uma tupla\n",
    "    somar = a + b + c\n",
    "    sub = a - b - c\n",
    "    return somar, sub"
   ]
  },
  {
   "cell_type": "code",
   "execution_count": 2,
   "metadata": {},
   "outputs": [],
   "source": [
    "soma_sub(100, 30, 50)"
   ]
  },
  {
   "cell_type": "code",
   "execution_count": 10,
   "metadata": {},
   "outputs": [
    {
     "name": "stdout",
     "output_type": "stream",
     "text": [
      "180\n",
      "20\n"
     ]
    }
   ],
   "source": [
    "#Separar os resultados do return\n",
    "\n",
    "soma, subtracao = soma_sub(100, 30, 50)\n",
    "\n",
    "print(soma)\n",
    "print(subtracao)"
   ]
  },
  {
   "cell_type": "code",
   "execution_count": 11,
   "metadata": {},
   "outputs": [
    {
     "name": "stdout",
     "output_type": "stream",
     "text": [
      "60\n",
      "-40\n",
      "0.016666666666666666\n",
      "6000\n"
     ]
    }
   ],
   "source": [
    "# 2. Crie uma função que retorne as seguintes operações (soma, subtração, divisão e multiplicação). \n",
    "# Crie uma estrutura a qual retorne os resultados separados. Utilize 4 números. \n",
    "numb = (10, 20, 30)\n",
    "def numb (a, b, c):\n",
    "    soma = a + b + c\n",
    "    sub = a - b - c\n",
    "    div = ((a / b) / c)\n",
    "    mult = a * b * c\n",
    "    return soma, sub, div, mult\n",
    "\n",
    "soma, sub, div, mult = numb(10, 20, 30) \n",
    "\n",
    "print(soma)\n",
    "print(sub)\n",
    "print(div)\n",
    "print(mult)      \n",
    "    \n",
    "    \n",
    "    \n"
   ]
  },
  {
   "cell_type": "code",
   "execution_count": 14,
   "metadata": {},
   "outputs": [
    {
     "name": "stdout",
     "output_type": "stream",
     "text": [
      "150\n",
      "30.0\n"
     ]
    }
   ],
   "source": [
    "#3. Crie uma função que retorne a soma e média de uma lista. \n",
    "#lista = [10, 20, 30, 40, 50]\n",
    "\n",
    "lista = [10, 20, 30, 40, 50]\n",
    "def list (lista):\n",
    "    soma = 0\n",
    "    for i in lista:\n",
    "        soma += i \n",
    "        media = soma / len(lista)\n",
    "    return soma, media\n",
    "soma, media = list(lista)\n",
    "\n",
    "print (soma)\n",
    "print(media)"
   ]
  },
  {
   "cell_type": "code",
   "execution_count": 19,
   "metadata": {},
   "outputs": [
    {
     "name": "stdout",
     "output_type": "stream",
     "text": [
      "150\n",
      "30.0\n"
     ]
    }
   ],
   "source": [
    "#4. Crie uma função para retornar a soma e média de cada lista, além da soma e média entre as três listas.\n",
    "\n",
    "#lista = [10, 20, 30, 40, 50]\n",
    "#lista = [5, 10, 15, 20, 25, 30, 35, 40, 45, 50]\n",
    "#lista = [5, 10, 15, 20, 25, 30, 35, 40, 45, 50, 55, 60, 65, 70]\n",
    "\n",
    "\n",
    "lista1 = [10, 20, 30, 40, 50]\n",
    "lista2 = [5, 10, 15, 20, 25, 30, 35, 40, 45, 50]\n",
    "lista3 = [5, 10, 15, 20, 25, 30, 35, 40, 45, 50, 55, 60, 65, 70]\n",
    "\n",
    "def operacoes_lista (lista1, lista2, lista3):\n",
    "    \n",
    "    somaL1 = soma(lista1)\n",
    "    mediaL1 = somaL1 / len(lista1)\n",
    "    \n",
    "    somaL2 = soma(lista2)\n",
    "    mediaL2 = somaL2 / len(lista2)\n",
    "    \n",
    "    somaL3 = soma(lista3)\n",
    "    mediaL3 = somaL3 / len(lista3)\n",
    "    \n",
    "    soma_listas = somaL1 + somaL2 + somaL3\n",
    "    media_lista = soma_listas / 3\n",
    "\n",
    "\n"
   ]
  }
 ],
 "metadata": {
  "kernelspec": {
   "display_name": "Python 3",
   "language": "python",
   "name": "python3"
  },
  "language_info": {
   "codemirror_mode": {
    "name": "ipython",
    "version": 3
   },
   "file_extension": ".py",
   "mimetype": "text/x-python",
   "name": "python",
   "nbconvert_exporter": "python",
   "pygments_lexer": "ipython3",
   "version": "3.12.3"
  }
 },
 "nbformat": 4,
 "nbformat_minor": 2
}
